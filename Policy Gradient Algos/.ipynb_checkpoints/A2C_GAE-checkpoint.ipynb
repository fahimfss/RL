{
 "cells": [
  {
   "cell_type": "markdown",
   "id": "superior-tomorrow",
   "metadata": {},
   "source": [
    "## PPO pseudocode:\n",
    "\n",
    "\n",
    "<img src=\"https://raw.githubusercontent.com/fahimfss/RL/master/Policy%20Gradient%20Algos/files/sc2.png\" alt=\"Drawing\" style=\"width: 750px; float:left;\"/>"
   ]
  },
  {
   "cell_type": "markdown",
   "id": "controlled-ebony",
   "metadata": {},
   "source": [
    "Collected from [Udacity Deep Reinforcement Learning Nanodegree.](https://classroom.udacity.com/nanodegrees/nd893) \n",
    "<br>\n",
    "\n",
    "Here I'll solve the Cartpole environment using PPO. I'll follow (not completely) the implementation details given in Udacity DRLND."
   ]
  },
  {
   "cell_type": "markdown",
   "id": "suited-inflation",
   "metadata": {},
   "source": [
    "### 1. Imports"
   ]
  },
  {
   "cell_type": "code",
   "execution_count": 1,
   "id": "automated-longer",
   "metadata": {},
   "outputs": [],
   "source": [
    "import gym\n",
    "import numpy as np\n",
    "from collections import deque\n",
    "import matplotlib.pyplot as plt\n",
    "%matplotlib inline\n",
    "\n",
    "import torch\n",
    "import torch.nn as nn\n",
    "import torch.nn.functional as F\n",
    "import torch.optim as optim\n",
    "from torch.distributions import Categorical"
   ]
  },
  {
   "cell_type": "markdown",
   "id": "corrected-profile",
   "metadata": {},
   "source": [
    "### 2. Define Policy Network\n",
    "\n",
    "Very simple fully connected neural network."
   ]
  },
  {
   "cell_type": "code",
   "execution_count": 2,
   "id": "oriented-drawing",
   "metadata": {},
   "outputs": [],
   "source": [
    "class Policy(nn.Module):\n",
    "    def __init__(self, state_size, action_size):\n",
    "        super(Policy, self).__init__()\n",
    "        self.fc = nn.Sequential(\n",
    "            nn.Linear(state_size, 128),\n",
    "            nn.LeakyReLU(),\n",
    "            nn.Linear(128, 128),\n",
    "            nn.LeakyReLU(),\n",
    "            nn.Linear(128, action_size)\n",
    "        )\n",
    "        \n",
    "    def forward(self, x): \n",
    "        x = self.fc(x) \n",
    "        return F.softmax(x, dim=1)   # return the probability of each action"
   ]
  },
  {
   "cell_type": "markdown",
   "id": "quick-handbook",
   "metadata": {},
   "source": [
    "### 3. Define Agent "
   ]
  },
  {
   "cell_type": "code",
   "execution_count": 3,
   "id": "mobile-agenda",
   "metadata": {},
   "outputs": [],
   "source": [
    "device = torch.device(\"cuda:0\" if torch.cuda.is_available() else \"cpu\")\n",
    "\n",
    "GAMMA = 0.99            # discount factor\n",
    "LR = 2e-4               # learning rate\n",
    "SGD_epoch = 4\n",
    "\n",
    "class Agent: \n",
    "    def __init__(self, state_size, action_size):\n",
    "        self.state_size = state_size\n",
    "        self.action_size = action_size\n",
    "         \n",
    "        self.surrogate_eps = 0.1     # used for clipping\n",
    "        self.surrogate_beta = 0.01    # used for creating noise\n",
    "        # need to update surrogate_eps & surrogate_beta after each iteration\n",
    "\n",
    "        self.policy = Policy(state_size, action_size).to(device) \n",
    "        self.optimizer = optim.Adam(self.policy.parameters(), lr=LR)\n",
    "        \n",
    "        self._init_memory()\n",
    "        \n",
    "    def _init_memory(self):\n",
    "        self.states = []\n",
    "        self.actions = []\n",
    "        self.rewards = []\n",
    "        self.probs = []\n",
    "        \n",
    "    def step(self, state, action, reward, prob):\n",
    "        self.states.append(state)\n",
    "        self.actions.append(action)\n",
    "        self.rewards.append(reward)\n",
    "        self.probs.append(prob)\n",
    "        \n",
    "    def act(self, state):\n",
    "        # returns an action and the chosen action probability\n",
    "        \n",
    "        state = torch.from_numpy(state).float().unsqueeze(0).to(device)\n",
    "        action_probs = self.policy(state).cpu()\n",
    "        m = Categorical(action_probs)\n",
    "        action = m.sample() \n",
    "        return action.item(), action_probs[0, action].item()\n",
    "    \n",
    "    def bacth_action_probs(self, states, actions):\n",
    "        # returns the probabilities of performed actions in states\n",
    "        \n",
    "        actions_probs = self.policy(states)\n",
    "        actions = actions.unsqueeze(1)\n",
    "        \n",
    "        # return the probs of taken actions\n",
    "        ret = actions_probs.gather(1, actions).squeeze(1)\n",
    "        return ret\n",
    "\n",
    "    def learn(self):\n",
    "        rewards_future = self._calc_rewards(self.rewards)\n",
    "\n",
    "        mean = np.mean(rewards_future)\n",
    "        std = np.std(rewards_future) + 1.0e-10\n",
    "        rewards_normalized = (rewards_future - mean)/std\n",
    "        \n",
    "        states = torch.tensor(self.states, dtype=torch.float, device=device)\n",
    "        actions = torch.tensor(self.actions, dtype=torch.int64, device=device)\n",
    "        probs = torch.tensor(self.probs, dtype=torch.float, device=device)\n",
    "        rewards = torch.tensor(rewards_normalized, dtype=torch.float, device=device)\n",
    "        \n",
    "        for i in range(SGD_epoch):       \n",
    "            self.optimizer.zero_grad()\n",
    "            L = -self.clipped_surrogate(states, actions, rewards, probs)\n",
    "            L.backward()\n",
    "            self.optimizer.step()\n",
    "            del L\n",
    "            \n",
    "        self.surrogate_eps *= 0.999    \n",
    "        self.surrogate_beta *= 0.995   \n",
    "        \n",
    "        self._init_memory()\n",
    "    \n",
    "    def clipped_surrogate(self, states, actions, rewards, probs):        \n",
    "        new_probs = self.bacth_action_probs(states, actions)\n",
    "        ratio = new_probs/probs\n",
    "\n",
    "        clip = torch.clamp(ratio, 1-self.surrogate_eps, 1+self.surrogate_eps)\n",
    "        clipped_surrogate = torch.min(ratio*rewards, clip*rewards)\n",
    "\n",
    "        entropy = -(new_probs*torch.log(probs+1.e-10)+ \\\n",
    "            (1.0-new_probs)*torch.log(1.0-probs+1.e-10))\n",
    "        \n",
    "        return torch.mean(clipped_surrogate + self.surrogate_beta*entropy)\n",
    "        \n",
    "    def _calc_rewards(self, rewards):\n",
    "        # returns the discounted rewards for each timesteps\n",
    "        ret = []\n",
    "        c_reward = 0.0\n",
    "        for reward in reversed(rewards):\n",
    "            c_reward *= GAMMA\n",
    "            c_reward += reward\n",
    "            ret.append(c_reward)\n",
    "        return list(reversed(ret))"
   ]
  },
  {
   "cell_type": "markdown",
   "id": "entire-vancouver",
   "metadata": {},
   "source": [
    "### 4. PPO"
   ]
  },
  {
   "cell_type": "code",
   "execution_count": 4,
   "id": "unique-hearts",
   "metadata": {},
   "outputs": [
    {
     "name": "stdout",
     "output_type": "stream",
     "text": [
      "state size: 4\n",
      "action size: 2\n",
      "Episode 100\tAverage Score: 36.28\n",
      "Episode 200\tAverage Score: 132.69\n",
      "Episode 300\tAverage Score: 163.83\n",
      "Episode 400\tAverage Score: 188.60\n",
      "Episode 500\tAverage Score: 194.42\n",
      "Environment solved in 415 episodes!\tAverage Score: 195.67\n"
     ]
    }
   ],
   "source": [
    "env = gym.make('CartPole-v0')   \n",
    "\n",
    "state_size = 4\n",
    "action_size = 2\n",
    "\n",
    "print('state size:', state_size)\n",
    "print('action size:', action_size)\n",
    "\n",
    "agent = Agent(state_size, action_size)\n",
    "\n",
    "def PPO(n_episodes=1000, max_t=1000, gamma=1.0, print_every=100):\n",
    "    scores_deque = deque(maxlen=100)\n",
    "    scores = []\n",
    "    for i_episode in range(1, n_episodes+1):        \n",
    "        state = env.reset()\n",
    "        rewards = 0.0\n",
    "        for t in range(max_t):\n",
    "            action, prob = agent.act(state)\n",
    "            n_state, reward, done, _ = env.step(action)\n",
    "            rewards += reward\n",
    "            agent.step(state, action, reward, prob)\n",
    "            if done:\n",
    "                agent.learn()\n",
    "                break\n",
    "            state = n_state\n",
    "        scores_deque.append(rewards)\n",
    "        scores.append(rewards)\n",
    "        \n",
    "        if i_episode % print_every == 0:\n",
    "            print('Episode {}\\tAverage Score: {:.2f}'.format(i_episode, np.mean(scores_deque)))\n",
    "        if np.mean(scores_deque)>=195.0:\n",
    "            print('Environment solved in {:d} episodes!\\tAverage Score: {:.2f}'.format(i_episode-100, np.mean(scores_deque)))\n",
    "            break\n",
    "        \n",
    "    return scores\n",
    "    \n",
    "scores = PPO()\n",
    "    "
   ]
  },
  {
   "cell_type": "markdown",
   "id": "wooden-halifax",
   "metadata": {},
   "source": [
    "### 5. Rewards plot"
   ]
  },
  {
   "cell_type": "code",
   "execution_count": 5,
   "id": "japanese-scenario",
   "metadata": {},
   "outputs": [
    {
     "data": {
      "image/png": "[encoded data removed]",
      "text/plain": [
       "<Figure size 432x288 with 1 Axes>"
      ]
     },
     "metadata": {
      "needs_background": "light"
     },
     "output_type": "display_data"
    }
   ],
   "source": [
    "fig = plt.figure()\n",
    "ax = fig.add_subplot(111)\n",
    "plt.plot(np.arange(1, len(scores)+1), scores)\n",
    "plt.ylabel('Score')\n",
    "plt.xlabel('Episode #')\n",
    "plt.show()"
   ]
  },
  {
   "cell_type": "markdown",
   "id": "coated-campaign",
   "metadata": {},
   "source": [
    "### 6. Run the trained agent"
   ]
  },
  {
   "cell_type": "code",
   "execution_count": 6,
   "id": "christian-wellington",
   "metadata": {},
   "outputs": [],
   "source": [
    "env = gym.make('CartPole-v0')\n",
    "\n",
    "state = env.reset()\n",
    "for t in range(5000):\n",
    "    action, _ = agent.act(state)\n",
    "    env.render()\n",
    "    state, reward, done, _ = env.step(action)\n",
    "    if done:\n",
    "        break \n",
    "\n",
    "env.close()"
   ]
  },
  {
   "cell_type": "markdown",
   "id": "cognitive-announcement",
   "metadata": {},
   "source": [
    "### 7. Remarks\n",
    "- PPO needs a lot of episodes to train (specially for harder env).\n",
    "- Run to run results vary a lot.\n",
    "- Hyper-parameters like learning rate, surrogate_eps tuning matters a lot."
   ]
  },
  {
   "cell_type": "code",
   "execution_count": null,
   "id": "vulnerable-coaching",
   "metadata": {},
   "outputs": [],
   "source": []
  }
 ],
 "metadata": {
  "kernelspec": {
   "display_name": "Python 3",
   "language": "python",
   "name": "python3"
  },
  "language_info": {
   "codemirror_mode": {
    "name": "ipython",
    "version": 3
   },
   "file_extension": ".py",
   "mimetype": "text/x-python",
   "name": "python",
   "nbconvert_exporter": "python",
   "pygments_lexer": "ipython3",
   "version": "3.8.8"
  }
 },
 "nbformat": 4,
 "nbformat_minor": 5
}
