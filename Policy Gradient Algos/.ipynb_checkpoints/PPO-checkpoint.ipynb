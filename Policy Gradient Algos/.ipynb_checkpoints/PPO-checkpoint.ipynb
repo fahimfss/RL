{
 "cells": [
  {
   "cell_type": "markdown",
   "id": "superior-tomorrow",
   "metadata": {},
   "source": [
    "## Vanilla REINFORCE pseudocode:\n",
    "\n",
    "\n",
    "<img src=\"https://raw.githubusercontent.com/fahimfss/RL/master/Policy%20Gradient%20Algos/files/sc1.png\" alt=\"Drawing\" style=\"width: 500px; float:left;\"/>"
   ]
  },
  {
   "cell_type": "markdown",
   "id": "controlled-ebony",
   "metadata": {},
   "source": [
    "Collected from [Udacity Deep Reinforcement Learning Nanodegree.](https://classroom.udacity.com/nanodegrees/nd893) \n",
    "<br>\n",
    "\n",
    "Here I'll solve the Cartpole environment using REINFORCE. I'll follow (not completely) the implementation details given [here](https://github.com/udacity/deep-reinforcement-learning/blob/master/reinforce/REINFORCE.ipynb). "
   ]
  },
  {
   "cell_type": "markdown",
   "id": "suited-inflation",
   "metadata": {},
   "source": [
    "### 1. Imports"
   ]
  },
  {
   "cell_type": "code",
   "execution_count": 1,
   "id": "automated-longer",
   "metadata": {},
   "outputs": [],
   "source": [
    "import gym\n",
    "import numpy as np\n",
    "from collections import deque\n",
    "import matplotlib.pyplot as plt\n",
    "%matplotlib inline\n",
    "\n",
    "import torch\n",
    "import torch.nn as nn\n",
    "import torch.nn.functional as F\n",
    "import torch.optim as optim\n",
    "from torch.distributions import Categorical"
   ]
  },
  {
   "cell_type": "markdown",
   "id": "corrected-profile",
   "metadata": {},
   "source": [
    "### 2. Define Policy Network\n",
    "\n",
    "Very simple fully connected neural network."
   ]
  },
  {
   "cell_type": "code",
   "execution_count": 2,
   "id": "oriented-drawing",
   "metadata": {},
   "outputs": [],
   "source": [
    "class Policy(nn.Module):\n",
    "    def __init__(self, state_size, action_size):\n",
    "        super(Policy, self).__init__()\n",
    "        self.fc = nn.Sequential(\n",
    "            nn.Linear(state_size, 64),\n",
    "            nn.LeakyReLU(),\n",
    "            nn.Linear(64, action_size)\n",
    "        )\n",
    "        \n",
    "    def forward(self, x):\n",
    "        return F.softmax(self.fc(x), dim=1)"
   ]
  },
  {
   "cell_type": "markdown",
   "id": "quick-handbook",
   "metadata": {},
   "source": [
    "### 3. Define Agent "
   ]
  },
  {
   "cell_type": "code",
   "execution_count": 3,
   "id": "mobile-agenda",
   "metadata": {},
   "outputs": [],
   "source": [
    "device = torch.device(\"cuda:0\" if torch.cuda.is_available() else \"cpu\")\n",
    "\n",
    "GAMMA = 0.99            # discount factor\n",
    "LR = 5e-3               # learning rate\n",
    "\n",
    "class Agent: \n",
    "    def __init__(self, state_size, action_size):\n",
    "        self.state_size = state_size\n",
    "        self.action_size = action_size\n",
    "\n",
    "        self.policy = Policy(state_size, action_size).to(device) \n",
    "        self.optimizer = optim.Adam(self.policy.parameters(), lr=LR)\n",
    "\n",
    "    def act(self, state):\n",
    "        state = torch.from_numpy(state).float().unsqueeze(0).to(device)\n",
    "        actions_probs = self.policy(state).cpu()\n",
    "        m = Categorical(actions_probs)\n",
    "        action = m.sample()\n",
    "        return action.item(), m.log_prob(action)\n",
    "        \n",
    "\n",
    "    def learn(self, rewards, log_probs):\n",
    "        # rewards (list): the rewards the agent received in the episode\n",
    "        # log_probs (list): log probabilities of the actions (log pi_theta(a_t|s_t))\n",
    "        \n",
    "        R = self._calc_rewards(rewards)\n",
    "        policy_loss = []\n",
    "        for R_t, log_t in zip(R, log_probs): \n",
    "            policy_loss.append(-R_t * log_t)\n",
    "        policy_loss = torch.cat(policy_loss).sum()\n",
    "        \n",
    "        self.optimizer.zero_grad()\n",
    "        policy_loss.backward()\n",
    "        self.optimizer.step()\n",
    "            \n",
    "        \n",
    "    def _calc_rewards(self, rewards):\n",
    "        ret = []\n",
    "        c_reward = 0.0\n",
    "        for reward in reversed(rewards):\n",
    "            c_reward *= GAMMA\n",
    "            c_reward += reward\n",
    "            ret.append(c_reward)\n",
    "        return list(reversed(ret))"
   ]
  },
  {
   "cell_type": "markdown",
   "id": "entire-vancouver",
   "metadata": {},
   "source": [
    "### 4. REINFORCE"
   ]
  },
  {
   "cell_type": "code",
   "execution_count": 4,
   "id": "unique-hearts",
   "metadata": {},
   "outputs": [
    {
     "name": "stdout",
     "output_type": "stream",
     "text": [
      "state size: 4\n",
      "action size: 2\n",
      "Episode 100\tAverage Score: 65.85\n",
      "Episode 200\tAverage Score: 155.10\n",
      "Episode 300\tAverage Score: 108.07\n",
      "Environment solved in 283 episodes!\tAverage Score: 195.60\n"
     ]
    }
   ],
   "source": [
    "env = gym.make('CartPole-v0')\n",
    "\n",
    "state_size = 4\n",
    "action_size = 2\n",
    "\n",
    "print('state size:', state_size)\n",
    "print('action size:', action_size)\n",
    "\n",
    "agent = Agent(state_size, action_size)\n",
    "\n",
    "def REINFORCE(n_episodes=1000, max_t=1000, gamma=1.0, print_every=100):\n",
    "    scores_deque = deque(maxlen=100)\n",
    "    scores = []\n",
    "    for i_episode in range(1, n_episodes+1):\n",
    "        saved_log_probs = []\n",
    "        rewards = []\n",
    "        state = env.reset()\n",
    "        for t in range(max_t):\n",
    "            action, log_prob = agent.act(state)\n",
    "            saved_log_probs.append(log_prob)\n",
    "            state, reward, done, _ = env.step(action)\n",
    "            rewards.append(reward)\n",
    "            if done:\n",
    "                agent.learn(rewards, saved_log_probs)\n",
    "                break \n",
    "        scores_deque.append(sum(rewards))\n",
    "        scores.append(sum(rewards))\n",
    "        \n",
    "        if i_episode % print_every == 0:\n",
    "            print('Episode {}\\tAverage Score: {:.2f}'.format(i_episode, np.mean(scores_deque)))\n",
    "        if np.mean(scores_deque)>=195.0:\n",
    "            print('Environment solved in {:d} episodes!\\tAverage Score: {:.2f}'.format(i_episode-100, np.mean(scores_deque)))\n",
    "            break\n",
    "        \n",
    "    return scores\n",
    "    \n",
    "scores = REINFORCE()\n",
    "    "
   ]
  },
  {
   "cell_type": "markdown",
   "id": "wooden-halifax",
   "metadata": {},
   "source": [
    "### 5. Rewards plot"
   ]
  },
  {
   "cell_type": "code",
   "execution_count": 5,
   "id": "japanese-scenario",
   "metadata": {},
   "outputs": [
    {
     "data": {
      "image/png": "[encoded data removed]",
      "text/plain": [
       "<Figure size 432x288 with 1 Axes>"
      ]
     },
     "metadata": {
      "needs_background": "light"
     },
     "output_type": "display_data"
    }
   ],
   "source": [
    "fig = plt.figure()\n",
    "ax = fig.add_subplot(111)\n",
    "plt.plot(np.arange(1, len(scores)+1), scores)\n",
    "plt.ylabel('Score')\n",
    "plt.xlabel('Episode #')\n",
    "plt.show()"
   ]
  },
  {
   "cell_type": "markdown",
   "id": "coated-campaign",
   "metadata": {},
   "source": [
    "### Run the trained agent"
   ]
  },
  {
   "cell_type": "code",
   "execution_count": 6,
   "id": "christian-wellington",
   "metadata": {},
   "outputs": [],
   "source": [
    "env = gym.make('CartPole-v0')\n",
    "\n",
    "state = env.reset()\n",
    "for t in range(5000):\n",
    "    action, _ = agent.act(state)\n",
    "    env.render()\n",
    "    state, reward, done, _ = env.step(action)\n",
    "    if done:\n",
    "        break \n",
    "\n",
    "env.close()"
   ]
  },
  {
   "cell_type": "code",
   "execution_count": null,
   "id": "intended-helping",
   "metadata": {},
   "outputs": [],
   "source": []
  }
 ],
 "metadata": {
  "kernelspec": {
   "display_name": "Python 3",
   "language": "python",
   "name": "python3"
  },
  "language_info": {
   "codemirror_mode": {
    "name": "ipython",
    "version": 3
   },
   "file_extension": ".py",
   "mimetype": "text/x-python",
   "name": "python",
   "nbconvert_exporter": "python",
   "pygments_lexer": "ipython3",
   "version": "3.8.8"
  }
 },
 "nbformat": 4,
 "nbformat_minor": 5
}
